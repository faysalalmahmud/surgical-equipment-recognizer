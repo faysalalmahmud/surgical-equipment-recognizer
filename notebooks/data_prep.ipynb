{
  "cells": [
    {
      "cell_type": "code",
      "execution_count": null,
      "metadata": {
        "id": "FbTFU1NbG44e"
      },
      "outputs": [],
      "source": [
        "%matplotlib inline\n",
        "bs = 8 #define batch size"
      ]
    },
    {
      "cell_type": "code",
      "execution_count": null,
      "metadata": {
        "id": "ZtGSAitGIKTk"
      },
      "outputs": [],
      "source": [
        "!pip install -Uqq fastai fastbook nbdev ddgs"
      ]
    },
    {
      "cell_type": "code",
      "execution_count": null,
      "metadata": {
        "id": "uyaq68tzIjqW"
      },
      "outputs": [],
      "source": [
        "from fastai import *\n",
        "from fastbook import *\n",
        "from fastai.vision.widgets import *\n",
        "from ddgs import DDGS\n",
        "from tqdm.notebook import tqdm"
      ]
    },
    {
      "cell_type": "code",
      "source": [
        "%cd /content/drive/MyDrive/Data Science/Mastercourse cohort 7/Surgical Equipment Recognizer"
      ],
      "metadata": {
        "id": "kh4TM18DEM3x",
        "colab": {
          "base_uri": "https://localhost:8080/"
        },
        "outputId": "af4a269d-e694-4ddf-bc62-c96b4c0248d1"
      },
      "execution_count": null,
      "outputs": [
        {
          "output_type": "stream",
          "name": "stdout",
          "text": [
            "/content/drive/MyDrive/Data Science/Mastercourse cohort 7/Surgical Equipment Recognizer\n"
          ]
        }
      ]
    },
    {
      "cell_type": "markdown",
      "metadata": {
        "id": "wYruReIvJrVT"
      },
      "source": [
        "# Download images from browser\n"
      ]
    },
    {
      "cell_type": "code",
      "execution_count": null,
      "metadata": {
        "colab": {
          "base_uri": "https://localhost:8080/"
        },
        "id": "cpknIk4kMGkH",
        "outputId": "67a5d39b-1d0f-49c6-f722-78799a66fad5"
      },
      "outputs": [
        {
          "output_type": "execute_result",
          "data": {
            "text/plain": [
              "20"
            ]
          },
          "metadata": {},
          "execution_count": 5
        }
      ],
      "source": [
        "# Define labels of the surgical equipment\n",
        "surgical_equipment_labels = [\n",
        "    \"Scalpel\",\n",
        "    \"Surgical Scissors (Mayo)\",\n",
        "    \"Metzenbaum Scissors\",\n",
        "    \"Forceps (Adson)\",\n",
        "    \"Forceps (DeBakey)\",\n",
        "    \"Hemostat\",\n",
        "    \"Needle Holder\",\n",
        "    \"Retractor (Deaver)\",\n",
        "    \"Surgical Towel Clamp\",\n",
        "    \"Suction Tip (Frazier)\",\n",
        "    \"Surgical Stapler\",\n",
        "    \"Bone Saw\",\n",
        "    \"Rongeur\",\n",
        "    \"Curette\",\n",
        "    \"Suture\",\n",
        "    \"Retractor (Gelpi)\",\n",
        "    \"Kocher Forceps\",\n",
        "    \"Allis Clamp\",\n",
        "    \"Bovie (Electrosurgical Unit)\",\n",
        "    \"Laparoscope\"\n",
        "]\n",
        "len(surgical_equipment_labels)"
      ]
    },
    {
      "cell_type": "code",
      "source": [
        "# Create Dataset directory and the subdirectory of each surgical equipment\n",
        "path = Path('data')\n",
        "\n",
        "if not path.exists():\n",
        "  path.mkdir()\n",
        "  for label in surgical_equipment_labels:\n",
        "    dest = (path/label)\n",
        "    dest.mkdir(exist_ok=True)"
      ],
      "metadata": {
        "id": "_K70ILQqFsML"
      },
      "execution_count": null,
      "outputs": []
    },
    {
      "cell_type": "code",
      "source": [
        "def DDG_search_images(term, min_images=300):\n",
        "  \"\"\"\n",
        "  term: term we are searching for\n",
        "  min_images: minimum number of images to be downloaded\n",
        "  \"\"\"\n",
        "  results = []\n",
        "  for page_no in range(1, 50): # continue to traverse pages until we get the target no of images\n",
        "    responses = DDGS().images(\n",
        "        query=term,\n",
        "        region=\"us-en\",\n",
        "        safesearch=\"off\",\n",
        "        timelimit=\"y\",\n",
        "        max_results=min_images,\n",
        "        page = page_no,\n",
        "        backend=\"auto\",\n",
        "    )\n",
        "    results.extend(responses)\n",
        "    if len(results) >= min_images: break\n",
        "\n",
        "  image_urls = [result['image'] for result in results]\n",
        "  return image_urls"
      ],
      "metadata": {
        "id": "aZsZlPNAMk1w"
      },
      "execution_count": null,
      "outputs": []
    },
    {
      "cell_type": "code",
      "source": [
        "images = DDG_search_images('Allis Clamp')\n",
        "print(f'No of images {len(images)}')"
      ],
      "metadata": {
        "colab": {
          "base_uri": "https://localhost:8080/"
        },
        "id": "_RFqD5GAP_jZ",
        "outputId": "81d4d451-0978-4a6b-9e75-83a52a54112c"
      },
      "execution_count": null,
      "outputs": [
        {
          "output_type": "stream",
          "name": "stdout",
          "text": [
            "No of images 326\n"
          ]
        }
      ]
    },
    {
      "cell_type": "code",
      "source": [
        "images"
      ],
      "metadata": {
        "id": "2x_kK7smOFFu",
        "outputId": "9065a03e-8de8-479f-9310-a8f6c557895e",
        "colab": {
          "base_uri": "https://localhost:8080/"
        },
        "collapsed": true
      },
      "execution_count": null,
      "outputs": [
        {
          "output_type": "execute_result",
          "data": {
            "text/plain": [
              "['https://i.ebayimg.com/images/g/F48AAOSw2jxjdeDd/s-l400.jpg',\n",
              " 'https://i.ebayimg.com/images/g/3YUAAOSwDYJkCuDc/s-l1600.jpg',\n",
              " 'https://i.ebayimg.com/images/g/3YUAAOSwDYJkCuDc/s-l400.jpg',\n",
              " 'https://i.ebayimg.com/images/g/Em4AAOSwfSFh0t9C/s-l1600.jpg',\n",
              " 'https://i.ebayimg.com/images/g/F48AAOSw2jxjdeDd/s-l1600.jpg',\n",
              " 'https://i.ebayimg.com/images/g/XeYAAOSwn2Nl4xy5/s-l1600.jpg',\n",
              " 'https://i.ebayimg.com/images/g/3YUAAOSwDYJkCuDc/s-l500.jpg',\n",
              " 'https://c8.alamy.com/comp/CRKEBT/allis-clamp-used-to-apply-atraumatic-traction-to-tissue-especially-CRKEBT.jpg',\n",
              " 'https://i.ebayimg.com/images/g/zNMAAOSwR4ZkCuDc/s-l1600.jpg',\n",
              " 'https://i.ebayimg.com/images/g/XeYAAOSwn2Nl4xy5/s-l400.jpg',\n",
              " 'https://surgivalley.com/wp-content/uploads/2021/04/LOCKWOOD-ALLIS-Intestinal-Clamp-3.jpg',\n",
              " 'https://i.ebayimg.com/images/g/F2IAAOSwXOhjYSHV/s-l1600.jpg',\n",
              " 'https://image.made-in-china.com/2f0j00ztGePjdUqQcY/Medical-Surgical-Operation-Soft-Tissue-Hand-Instruments-Allis-Forceps-and-Clamps.jpg',\n",
              " 'https://i.ebayimg.com/images/g/JkcAAOSwyXdlEcRa/s-l1600.jpg',\n",
              " 'https://i.ebayimg.com/images/g/wuYAAOSwsvNlXOWv/s-l1600.jpg',\n",
              " 'https://media.sciencephoto.com/image/c0529337/800wm/C0529337-Babcock_forceps_and_Allis_clamp.jpg',\n",
              " 'https://i.pinimg.com/originals/4f/1c/77/4f1c7755627ad8115376b73df7212ac7.jpg',\n",
              " 'https://i.ebayimg.com/images/g/qpgAAOSw~ANl-oqA/s-l1600.jpg',\n",
              " 'https://o.quizlet.com/8rt2krzFB3XA2HsWB8Yr3Q.png',\n",
              " 'https://primismedical.com/cdn/shop/files/copy-of-ebay-23.png?crop=center&height=1200&v=1757104634&width=1200',\n",
              " 'https://images.tokopedia.net/img/cache/500-square/VqbcmM/2021/10/14/b3eaa172-6d60-4dfb-9174-3f3903ac6a44.jpg',\n",
              " 'https://grey-medical.com/wp-content/uploads/2025/04/Allis-Bone-Clamp-6.jpg',\n",
              " 'https://img.everymarket.com/kjuzihovdzxrmvovakvps4ylqu1e?width=800&height=800&format=jpg',\n",
              " 'https://down-id.img.susercontent.com/file/sg-11134201-7rble-m5nnrscp8lpa88',\n",
              " 'https://i.otto.de/i/otto/3086d971-3ec1-5442-aec7-728442397c86?h=380&w=360&sm=clamp&upscale=true&fmt=auto',\n",
              " 'https://grey-medical.com/wp-content/uploads/2025/04/Allis-Bone-Clamp-6-one-coated-end.jpg',\n",
              " 'https://i.ebayimg.com/images/g/2dIAAOSw8bpjdeDd/s-l1600.jpg',\n",
              " 'https://media.licdn.com/dms/image/v2/C511BAQGLU7GJoigdLA/company-background_10000/company-background_10000/0/1584491833585?e=2147483647&v=beta&t=i69aWp2jCgrptwLuJuPJttpLyVBjk6wqBcKgkSdcfhs',\n",
              " 'https://new-medinstruments.com/image/cache/catalog/02021/Forceps+Clamps/Allis+Tissue+Forceps-500x500w.jpg',\n",
              " 'https://i.ebayimg.com/images/g/B0MAAOSwr9tjdeDd/s-l1600.jpg',\n",
              " 'https://i.ebayimg.com/images/g/G-cAAOSwfA9lm6Gt/s-l960.jpg',\n",
              " 'https://i.pinimg.com/originals/33/c4/6c/33c46ce9e3ffd1610e753be23d4c4566.jpg',\n",
              " 'https://i.ebayimg.com/images/g/v0YAAOSwKv5llEtz/s-l1600.jpg',\n",
              " 'https://media.licdn.com/dms/image/v2/D4E05AQHJEfGDW7S1Cw/videocover-high/B4EZSjX96IG0Bs-/0/1737907828511?e=2147483647&v=beta&t=0meWRNf4VZTxN_CEisWd4CwyGjiKX4MozfTHoZxrTgY',\n",
              " 'https://accesstovetcare.in/wp-content/uploads/2025/02/Allis-forceps-864x1536.jpg',\n",
              " 'https://grey-medical.com/wp-content/uploads/2025/04/Allis-Bone-Clamp-6-two-coated-ends.jpg',\n",
              " 'https://miro.medium.com/v2/resize:fit:1358/1*fNZr5hu8q3SHnKCVNSNtSg.jpeg',\n",
              " 'https://down-id.img.susercontent.com/file/id-11134201-7rask-m11i0634cx0a7c',\n",
              " 'https://cpimg.tistatic.com/10146521/b/5/ALLIS-TISSUE.png',\n",
              " 'https://miro.medium.com/v2/resize:fit:1000/1*yxmeZKo0HrfAi1Rrjxt3yg.jpeg',\n",
              " 'https://5.imimg.com/data5/SELLER/Default/2024/9/453589260/RF/WZ/AJ/3275920/58-500x500.jpg',\n",
              " 'https://media.licdn.com/dms/image/v2/D4E05AQFLSQ4MhhmGVQ/videocover-high/videocover-high/0/1727134018267?e=2147483647&v=beta&t=geWyy2mct2z2OrQF5W_mDNEh_JympV3vCUh3lKVu0yg',\n",
              " 'https://i.ebayimg.com/images/g/vywAAOSwgO1kCuDc/s-l1600.jpg',\n",
              " 'https://www.jmmobiliariomedicoequipos.com/wp-content/uploads/2022/12/PINZA-ALLIS-15CM-RECTA.webp',\n",
              " 'https://media.licdn.com/dms/image/v2/D4E05AQHgvBLLDFcExA/videocover-high/B4EZQ8x.q1G4Bs-/0/1736186527067?e=2147483647&v=beta&t=LNItUJjdL4_upz1_suO9xT9HvSOu9YxG_fkgUwl6bpw',\n",
              " 'https://lookaside.fbsbx.com/lookaside/crawler/media/?media_id=579766774602823',\n",
              " 'https://i.ebayimg.com/images/g/KmcAAeSwMZBouihP/s-l500.jpg',\n",
              " 'https://makepix.b-cdn.net/makepix_5d9542ad-a7f3-489f-908f-c47366f9145b/allis-clamp-091614c9_0.png',\n",
              " 'https://www.jmmobiliariomedicoequipos.com/wp-content/uploads/2024/05/PINZA-ALLIS-20-CM-RECTA.webp',\n",
              " 'https://www.blackwoods.com.au/pim/images/00244566_1.jpg?render=true&impolicy=impolicy_PDPDetailImage_Desktop',\n",
              " 'https://www.blackwoods.com.au/pim/images/00245212_1.jpg?render=true&impolicy=impolicy_PDPDetailImage_Desktop',\n",
              " 'https://5.imimg.com/data5/SELLER/Default/2025/3/499748348/DN/CO/TG/36777863/allis-forceps-1000x1000.jpg',\n",
              " 'https://i.ebayimg.com/images/g/g0AAAeSwpWhottim/s-l400.jpg',\n",
              " 'https://s7d9.scene7.com/is/image/mmmspinco/Clamp-4-pouces',\n",
              " 'https://i5.walmartimages.com/seo/Line-Fuel-Filter-w-Hose-Clamps-Fits-International-Ford-John-Deere-Massey-Allis-Chalmers-Case-Cockshutt-Minneapolis-Moline-White-Oliver-Tractors_c538999f-3b86-4030-a221-3df155f09da6.28959d79fae415708889a5b287ee5642.jpeg',\n",
              " 'https://i5.walmartimages.com/seo/210467-Qty-100-Fuel-Line-Clamp-Fits-Allis-Chalmers-AC-22042-AC-23420_8d58607b-8529-4b54-b174-16ab41177551.032dcf6062d99bd699fe56e988f4d77f.jpeg',\n",
              " 'https://lookaside.fbsbx.com/lookaside/crawler/media/?media_id=1654922302129686',\n",
              " 'https://lookaside.fbsbx.com/lookaside/crawler/media/?media_id=1825323518290109',\n",
              " 'https://i5.walmartimages.com/seo/Air-Cleaner-Oil-Cup-Clamp-Style-Fits-International-Ford-John-Deere-Massey-Allis-Chalmers-Case-Minneapolis-Moline-White-Oliver-Tractor-352597R91-AH773_6d9f78e9-615f-454b-bcaf-e194a7acaa19.cb272a4460f26d4057e883f968d1ea8d.jpeg',\n",
              " 'https://www.kingmods.net/uploads/fs25/mods/allis-chalmers-1500-fs25-sPKYm.jpg',\n",
              " 'https://www.kingmods.net/uploads/fs25/mods/allis-chalmers-wd45-fs25-0vCJv.jpg',\n",
              " 'https://lookaside.fbsbx.com/lookaside/crawler/threads/mylifeas_allis/profile_pic.jpg',\n",
              " 'https://c8.alamy.com/comp/CRKE68/babcock-forceps-top-and-allis-clamp-bottom-both-are-used-to-atraumatically-CRKE68.jpg',\n",
              " 'https://wvs.academy/img-static/learn/companion-animals/spay-neuter/preparation-and-principles/surgical-equipment/instruments/figure-13.jpg',\n",
              " 'https://cstsetup.com/wp-content/uploads/2020/01/Allis-Forceps.png',\n",
              " 'https://5.imimg.com/data5/SELLER/Default/2024/7/433671666/RA/XA/LI/27436609/agarwals-5inch-aliis-tissue-forcep-500x500.jpg',\n",
              " 'https://i.machinio.com/thumb/1iix9e/4177467008/ddf6/muffler-clamp-2-2-bolt-heavy-duty-fits-new-holland-tl70-tl80-tl90-tl100-fits-ford-3600-4110-2000-4000-81818151-d6nn5252b-fits-allis-chalmers-79023405-fits-agco-79023405v-fits-john-deere-pm90929k.jpg',\n",
              " 'https://5.imimg.com/data5/SELLER/Default/2024/7/433671666/RA/XA/LI/27436609/agarwals-5inch-aliis-tissue-forcep-1000x1000.jpg',\n",
              " 'https://s3-eu-west-1.amazonaws.com/immagini.armiusate.it/pix/ballistol_shop_banner_armiusate.jpg',\n",
              " 'https://media.licdn.com/dms/image/v2/D4D22AQHEX0LhhOczNQ/feedshare-shrink_2048_1536/feedshare-shrink_2048_1536/0/1733244635766?e=2147483647&v=beta&t=f7rs60QMQZfjR8uUJCZVP2Vm_gdDURFdFwhBvywh-6I',\n",
              " 'https://lookaside.fbsbx.com/lookaside/crawler/media/?media_id=1230986808373714',\n",
              " 'https://catalog.wlimg.com/1/14819215/other-images/1029293.jpg',\n",
              " 'https://p16-ehi-sg.gauthstatic.com/tos-alisg-i-6e3a8cj6on-sg/4fa7a57f13634945acd7c973a7e44146~tplv-6e3a8cj6on-10.image',\n",
              " 'https://2.wlimg.com/product_images/bc-full/2025/8/14819215/watermark/adson-surgical-forceps-1754895016-8258567.jpeg',\n",
              " 'https://d3b00m8mfsag2q.cloudfront.net/userfiles/images/category/car_cat-sm.jpg?width=45&height=45',\n",
              " 'https://o.quizlet.com/6yd0-Q6AIlswujIW2WPHqg.jpg',\n",
              " 'https://res.cloudinary.com/dyx4yhvoq/image/upload/w_800,h_800,c_limit,f_auto,q_auto/v1627484457/element-defaults/blank-light.jpg',\n",
              " 'https://2.wlimg.com/product_images/bc-full/2025/8/14819215/watermark/elastic-cotton-crepe-bandage-1754901750-8258866.jpeg',\n",
              " 'https://2.wlimg.com/product_images/bc-full/2025/8/14819215/watermark/disposable-cautery-pencil-1754898659-8258767.jpeg',\n",
              " 'https://2.wlimg.com/product_images/bc-full/2025/8/14819215/watermark/laparoscopic-trocar-cannula-1754897535-8258716.jpeg',\n",
              " 'https://2.wlimg.com/product_images/bc-full/2025/8/14819215/watermark/a-grade-white-maida-flour-1754654262-8256243.jpeg',\n",
              " 'https://2.wlimg.com/product_images/bc-full/2025/8/14819215/watermark/hypodermic-veterinary-needles-1754902239-8258895.jpeg',\n",
              " 'https://2.wlimg.com/product_images/bc-full/2025/8/14819215/watermark/10-20-fr-foley-catheters-1754904138-8259051.jpeg',\n",
              " 'https://i.ebayimg.com/images/g/3YUAAOSwDYJkCuDc/s-l1600.jpg',\n",
              " 'https://i.ebayimg.com/images/g/F48AAOSw2jxjdeDd/s-l400.jpg',\n",
              " 'https://i.ebayimg.com/images/g/2dIAAOSw8bpjdeDd/s-l1600.jpg',\n",
              " 'https://i.ebayimg.com/images/g/Em4AAOSwfSFh0t9C/s-l1600.jpg',\n",
              " 'https://i.ebayimg.com/images/g/F48AAOSw2jxjdeDd/s-l1600.jpg',\n",
              " 'https://i.ebayimg.com/images/g/XeYAAOSwn2Nl4xy5/s-l1600.jpg',\n",
              " 'https://i.ebayimg.com/images/g/zNMAAOSwR4ZkCuDc/s-l1600.jpg',\n",
              " 'https://img.everymarket.com/kjuzihovdzxrmvovakvps4ylqu1e?width=800&height=800&format=jpg',\n",
              " 'https://i.ebayimg.com/images/g/wuYAAOSwsvNlXOWv/s-l1600.jpg',\n",
              " 'https://i.ebayimg.com/images/g/JkcAAOSwyXdlEcRa/s-l1600.jpg',\n",
              " 'https://images.tokopedia.net/img/cache/500-square/VqbcmM/2021/10/14/b3eaa172-6d60-4dfb-9174-3f3903ac6a44.jpg',\n",
              " 'https://grey-medical.com/wp-content/uploads/2025/04/Allis-Bone-Clamp-6.jpg',\n",
              " 'https://o.quizlet.com/8rt2krzFB3XA2HsWB8Yr3Q.png',\n",
              " 'https://media.licdn.com/dms/image/v2/C511BAQGLU7GJoigdLA/company-background_10000/company-background_10000/0/1584491833585?e=2147483647&v=beta&t=i69aWp2jCgrptwLuJuPJttpLyVBjk6wqBcKgkSdcfhs',\n",
              " 'https://primismedical.com/cdn/shop/files/copy-of-ebay-23.png?crop=center&height=1200&v=1757104634&width=1200',\n",
              " 'https://down-id.img.susercontent.com/file/sg-11134201-7rble-m5nnrscp8lpa88',\n",
              " 'https://i.ebayimg.com/images/g/qpgAAOSw~ANl-oqA/s-l1600.jpg',\n",
              " 'https://i.pinimg.com/originals/4f/1c/77/4f1c7755627ad8115376b73df7212ac7.jpg',\n",
              " 'https://grey-medical.com/wp-content/uploads/2025/04/Allis-Bone-Clamp-6-two-coated-ends.jpg',\n",
              " 'https://grey-medical.com/wp-content/uploads/2025/04/Allis-Bone-Clamp-6-one-coated-end.jpg',\n",
              " 'https://i5.walmartimages.com/seo/210467-Qty-100-Fuel-Line-Clamp-Fits-Allis-Chalmers-AC-22042-AC-23420_8d58607b-8529-4b54-b174-16ab41177551.032dcf6062d99bd699fe56e988f4d77f.jpeg',\n",
              " 'https://i.ebayimg.com/images/g/XeYAAOSwn2Nl4xy5/s-l400.jpg',\n",
              " 'https://image.made-in-china.com/2f0j00ztGePjdUqQcY/Medical-Surgical-Operation-Soft-Tissue-Hand-Instruments-Allis-Forceps-and-Clamps.jpg',\n",
              " 'https://i.ebayimg.com/images/g/B0MAAOSwr9tjdeDd/s-l1600.jpg',\n",
              " 'https://new-medinstruments.com/image/cache/catalog/02021/Forceps+Clamps/Allis+Tissue+Forceps-500x500w.jpg',\n",
              " 'https://i.ebayimg.com/images/g/3YUAAOSwDYJkCuDc/s-l400.jpg',\n",
              " 'https://media.sciencephoto.com/image/c0529337/800wm/C0529337-Babcock_forceps_and_Allis_clamp.jpg',\n",
              " 'https://i.ebayimg.com/images/g/3YUAAOSwDYJkCuDc/s-l500.jpg',\n",
              " 'https://surgivalley.com/wp-content/uploads/2021/04/LOCKWOOD-ALLIS-Intestinal-Clamp-3.jpg',\n",
              " 'https://c8.alamy.com/comp/CRKEBT/allis-clamp-used-to-apply-atraumatic-traction-to-tissue-especially-CRKEBT.jpg',\n",
              " 'https://i.ebayimg.com/images/g/F2IAAOSwXOhjYSHV/s-l1600.jpg',\n",
              " 'https://i.ebayimg.com/images/g/G-cAAOSwfA9lm6Gt/s-l960.jpg',\n",
              " 'https://miro.medium.com/v2/resize:fit:1000/1*yxmeZKo0HrfAi1Rrjxt3yg.jpeg',\n",
              " 'https://5.imimg.com/data5/SELLER/Default/2024/9/453589260/RF/WZ/AJ/3275920/58-500x500.jpg',\n",
              " 'https://down-id.img.susercontent.com/file/id-11134201-7rask-m11i0634cx0a7c',\n",
              " 'https://media.licdn.com/dms/image/v2/D4E05AQFLSQ4MhhmGVQ/videocover-high/videocover-high/0/1727134018267?e=2147483647&v=beta&t=geWyy2mct2z2OrQF5W_mDNEh_JympV3vCUh3lKVu0yg',\n",
              " 'https://i5.walmartimages.com/seo/Air-Cleaner-Oil-Cup-Clamp-Style-Fits-International-Ford-John-Deere-Massey-Allis-Chalmers-Case-Minneapolis-Moline-White-Oliver-Tractor-352597R91-AH773_6d9f78e9-615f-454b-bcaf-e194a7acaa19.cb272a4460f26d4057e883f968d1ea8d.jpeg',\n",
              " 'https://i.ebayimg.com/images/g/vywAAOSwgO1kCuDc/s-l1600.jpg',\n",
              " 'https://accesstovetcare.in/wp-content/uploads/2025/02/Allis-forceps-864x1536.jpg',\n",
              " 'https://miro.medium.com/v2/resize:fit:1358/1*fNZr5hu8q3SHnKCVNSNtSg.jpeg',\n",
              " 'https://i.pinimg.com/originals/33/c4/6c/33c46ce9e3ffd1610e753be23d4c4566.jpg',\n",
              " 'https://cpimg.tistatic.com/10146521/b/5/ALLIS-TISSUE.png',\n",
              " 'https://i.ebayimg.com/images/g/v0YAAOSwKv5llEtz/s-l1600.jpg',\n",
              " 'https://makepix.b-cdn.net/makepix_5d9542ad-a7f3-489f-908f-c47366f9145b/allis-clamp-091614c9_0.png',\n",
              " 'https://media.licdn.com/dms/image/v2/D4E05AQHJEfGDW7S1Cw/videocover-high/B4EZSjX96IG0Bs-/0/1737907828511?e=2147483647&v=beta&t=0meWRNf4VZTxN_CEisWd4CwyGjiKX4MozfTHoZxrTgY',\n",
              " 'https://www.jmmobiliariomedicoequipos.com/wp-content/uploads/2022/12/PINZA-ALLIS-15CM-RECTA.webp',\n",
              " 'https://lookaside.fbsbx.com/lookaside/crawler/media/?media_id=579766774602823',\n",
              " 'https://www.jmmobiliariomedicoequipos.com/wp-content/uploads/2024/05/PINZA-ALLIS-20-CM-RECTA.webp',\n",
              " 'https://media.licdn.com/dms/image/v2/D4E05AQHgvBLLDFcExA/videocover-high/B4EZQ8x.q1G4Bs-/0/1736186527067?e=2147483647&v=beta&t=LNItUJjdL4_upz1_suO9xT9HvSOu9YxG_fkgUwl6bpw',\n",
              " 'https://i.ebayimg.com/images/g/KmcAAeSwMZBouihP/s-l500.jpg',\n",
              " 'https://5.imimg.com/data5/SELLER/Default/2025/3/499748348/DN/CO/TG/36777863/allis-forceps-1000x1000.jpg',\n",
              " 'https://i5.walmartimages.com/seo/Line-Fuel-Filter-w-Hose-Clamps-Fits-International-Ford-John-Deere-Massey-Allis-Chalmers-Case-Cockshutt-Minneapolis-Moline-White-Oliver-Tractors_c538999f-3b86-4030-a221-3df155f09da6.28959d79fae415708889a5b287ee5642.jpeg',\n",
              " 'https://i.otto.de/i/otto/3086d971-3ec1-5442-aec7-728442397c86?h=380&w=360&sm=clamp&upscale=true&fmt=auto',\n",
              " 'https://www.blackwoods.com.au/pim/images/00245212_1.jpg?render=true&impolicy=impolicy_PDPDetailImage_Desktop',\n",
              " 'https://www.blackwoods.com.au/pim/images/00244566_1.jpg?render=true&impolicy=impolicy_PDPDetailImage_Desktop',\n",
              " 'https://lookaside.fbsbx.com/lookaside/crawler/media/?media_id=1825323518290109',\n",
              " 'https://i.ebayimg.com/images/g/g0AAAeSwpWhottim/s-l400.jpg',\n",
              " 'https://lookaside.fbsbx.com/lookaside/crawler/media/?media_id=1654922302129686',\n",
              " 'https://www.kingmods.net/uploads/fs25/mods/allis-chalmers-1500-fs25-sPKYm.jpg',\n",
              " 'https://s7d9.scene7.com/is/image/mmmspinco/Clamp-4-pouces',\n",
              " 'https://www.kingmods.net/uploads/fs25/mods/allis-chalmers-wd45-fs25-0vCJv.jpg',\n",
              " 'https://lookaside.fbsbx.com/lookaside/crawler/threads/mylifeas_allis/profile_pic.jpg',\n",
              " 'https://5.imimg.com/data5/SELLER/Default/2024/7/433671666/RA/XA/LI/27436609/agarwals-5inch-aliis-tissue-forcep-500x500.jpg',\n",
              " 'https://cstsetup.com/wp-content/uploads/2020/01/Allis-Forceps.png',\n",
              " 'https://5.imimg.com/data5/SELLER/Default/2024/7/433671666/RA/XA/LI/27436609/agarwals-5inch-aliis-tissue-forcep-1000x1000.jpg',\n",
              " 'https://wvs.academy/img-static/learn/companion-animals/spay-neuter/preparation-and-principles/surgical-equipment/instruments/figure-13.jpg',\n",
              " 'https://c8.alamy.com/comp/CRKE68/babcock-forceps-top-and-allis-clamp-bottom-both-are-used-to-atraumatically-CRKE68.jpg',\n",
              " 'https://media.licdn.com/dms/image/v2/D4D22AQHEX0LhhOczNQ/feedshare-shrink_2048_1536/feedshare-shrink_2048_1536/0/1733244635766?e=2147483647&v=beta&t=f7rs60QMQZfjR8uUJCZVP2Vm_gdDURFdFwhBvywh-6I',\n",
              " 'https://i.machinio.com/thumb/1iix9e/4177467008/ddf6/muffler-clamp-2-2-bolt-heavy-duty-fits-new-holland-tl70-tl80-tl90-tl100-fits-ford-3600-4110-2000-4000-81818151-d6nn5252b-fits-allis-chalmers-79023405-fits-agco-79023405v-fits-john-deere-pm90929k.jpg',\n",
              " 'https://p16-ehi-sg.gauthstatic.com/tos-alisg-i-6e3a8cj6on-sg/4fa7a57f13634945acd7c973a7e44146~tplv-6e3a8cj6on-10.image',\n",
              " 'https://lookaside.fbsbx.com/lookaside/crawler/media/?media_id=1230986808373714',\n",
              " 'https://s3-eu-west-1.amazonaws.com/immagini.armiusate.it/pix/ballistol_shop_banner_armiusate.jpg',\n",
              " 'https://2.wlimg.com/product_images/bc-full/2025/8/14819215/watermark/adson-surgical-forceps-1754895016-8258567.jpeg',\n",
              " 'https://catalog.wlimg.com/1/14819215/other-images/1029293.jpg',\n",
              " 'https://o.quizlet.com/6yd0-Q6AIlswujIW2WPHqg.jpg',\n",
              " 'https://res.cloudinary.com/dyx4yhvoq/image/upload/w_800,h_800,c_limit,f_auto,q_auto/v1627484457/element-defaults/blank-light.jpg',\n",
              " 'https://2.wlimg.com/product_images/bc-full/2025/8/14819215/watermark/disposable-cautery-pencil-1754898659-8258767.jpeg',\n",
              " 'https://d3b00m8mfsag2q.cloudfront.net/userfiles/images/category/car_cat-sm.jpg?width=45&height=45',\n",
              " 'https://2.wlimg.com/product_images/bc-full/2025/8/14819215/watermark/elastic-cotton-crepe-bandage-1754901750-8258866.jpeg',\n",
              " 'https://2.wlimg.com/product_images/bc-full/2025/8/14819215/watermark/laparoscopic-trocar-cannula-1754897535-8258716.jpeg',\n",
              " 'https://2.wlimg.com/product_images/bc-full/2025/8/14819215/watermark/hypodermic-veterinary-needles-1754902239-8258895.jpeg',\n",
              " 'https://2.wlimg.com/product_images/bc-full/2025/8/14819215/watermark/a-grade-white-maida-flour-1754654262-8256243.jpeg',\n",
              " 'https://2.wlimg.com/product_images/bc-full/2025/8/14819215/watermark/10-20-fr-foley-catheters-1754904138-8259051.jpeg',\n",
              " 'https://i.ebayimg.com/images/g/F48AAOSw2jxjdeDd/s-l400.jpg',\n",
              " 'https://i.ebayimg.com/images/g/3YUAAOSwDYJkCuDc/s-l1600.jpg',\n",
              " 'https://i.ebayimg.com/images/g/3YUAAOSwDYJkCuDc/s-l400.jpg',\n",
              " 'https://i.ebayimg.com/images/g/Em4AAOSwfSFh0t9C/s-l1600.jpg',\n",
              " 'https://i.ebayimg.com/images/g/F48AAOSw2jxjdeDd/s-l1600.jpg',\n",
              " 'https://i.ebayimg.com/images/g/XeYAAOSwn2Nl4xy5/s-l1600.jpg',\n",
              " 'https://i.ebayimg.com/images/g/3YUAAOSwDYJkCuDc/s-l500.jpg',\n",
              " 'https://c8.alamy.com/comp/CRKEBT/allis-clamp-used-to-apply-atraumatic-traction-to-tissue-especially-CRKEBT.jpg',\n",
              " 'https://i.ebayimg.com/images/g/zNMAAOSwR4ZkCuDc/s-l1600.jpg',\n",
              " 'https://i.ebayimg.com/images/g/XeYAAOSwn2Nl4xy5/s-l400.jpg',\n",
              " 'https://surgivalley.com/wp-content/uploads/2021/04/LOCKWOOD-ALLIS-Intestinal-Clamp-3.jpg',\n",
              " 'https://i.ebayimg.com/images/g/F2IAAOSwXOhjYSHV/s-l1600.jpg',\n",
              " 'https://image.made-in-china.com/2f0j00ztGePjdUqQcY/Medical-Surgical-Operation-Soft-Tissue-Hand-Instruments-Allis-Forceps-and-Clamps.jpg',\n",
              " 'https://i.ebayimg.com/images/g/JkcAAOSwyXdlEcRa/s-l1600.jpg',\n",
              " 'https://i.ebayimg.com/images/g/wuYAAOSwsvNlXOWv/s-l1600.jpg',\n",
              " 'https://media.sciencephoto.com/image/c0529337/800wm/C0529337-Babcock_forceps_and_Allis_clamp.jpg',\n",
              " 'https://i.pinimg.com/originals/4f/1c/77/4f1c7755627ad8115376b73df7212ac7.jpg',\n",
              " 'https://i.ebayimg.com/images/g/qpgAAOSw~ANl-oqA/s-l1600.jpg',\n",
              " 'https://o.quizlet.com/8rt2krzFB3XA2HsWB8Yr3Q.png',\n",
              " 'https://primismedical.com/cdn/shop/files/copy-of-ebay-23.png?crop=center&height=1200&v=1757104634&width=1200',\n",
              " 'https://images.tokopedia.net/img/cache/500-square/VqbcmM/2021/10/14/b3eaa172-6d60-4dfb-9174-3f3903ac6a44.jpg',\n",
              " 'https://grey-medical.com/wp-content/uploads/2025/04/Allis-Bone-Clamp-6.jpg',\n",
              " 'https://img.everymarket.com/kjuzihovdzxrmvovakvps4ylqu1e?width=800&height=800&format=jpg',\n",
              " 'https://down-id.img.susercontent.com/file/sg-11134201-7rble-m5nnrscp8lpa88',\n",
              " 'https://i.otto.de/i/otto/3086d971-3ec1-5442-aec7-728442397c86?h=380&w=360&sm=clamp&upscale=true&fmt=auto',\n",
              " 'https://grey-medical.com/wp-content/uploads/2025/04/Allis-Bone-Clamp-6-one-coated-end.jpg',\n",
              " 'https://i.ebayimg.com/images/g/2dIAAOSw8bpjdeDd/s-l1600.jpg',\n",
              " 'https://media.licdn.com/dms/image/v2/C511BAQGLU7GJoigdLA/company-background_10000/company-background_10000/0/1584491833585?e=2147483647&v=beta&t=i69aWp2jCgrptwLuJuPJttpLyVBjk6wqBcKgkSdcfhs',\n",
              " 'https://new-medinstruments.com/image/cache/catalog/02021/Forceps+Clamps/Allis+Tissue+Forceps-500x500w.jpg',\n",
              " 'https://i.ebayimg.com/images/g/B0MAAOSwr9tjdeDd/s-l1600.jpg',\n",
              " 'https://i.ebayimg.com/images/g/G-cAAOSwfA9lm6Gt/s-l960.jpg',\n",
              " 'https://i.pinimg.com/originals/33/c4/6c/33c46ce9e3ffd1610e753be23d4c4566.jpg',\n",
              " 'https://i.ebayimg.com/images/g/v0YAAOSwKv5llEtz/s-l1600.jpg',\n",
              " 'https://media.licdn.com/dms/image/v2/D4E05AQHJEfGDW7S1Cw/videocover-high/B4EZSjX96IG0Bs-/0/1737907828511?e=2147483647&v=beta&t=0meWRNf4VZTxN_CEisWd4CwyGjiKX4MozfTHoZxrTgY',\n",
              " 'https://accesstovetcare.in/wp-content/uploads/2025/02/Allis-forceps-864x1536.jpg',\n",
              " 'https://grey-medical.com/wp-content/uploads/2025/04/Allis-Bone-Clamp-6-two-coated-ends.jpg',\n",
              " 'https://miro.medium.com/v2/resize:fit:1358/1*fNZr5hu8q3SHnKCVNSNtSg.jpeg',\n",
              " 'https://down-id.img.susercontent.com/file/id-11134201-7rask-m11i0634cx0a7c',\n",
              " 'https://cpimg.tistatic.com/10146521/b/5/ALLIS-TISSUE.png',\n",
              " 'https://miro.medium.com/v2/resize:fit:1000/1*yxmeZKo0HrfAi1Rrjxt3yg.jpeg',\n",
              " 'https://5.imimg.com/data5/SELLER/Default/2024/9/453589260/RF/WZ/AJ/3275920/58-500x500.jpg',\n",
              " 'https://media.licdn.com/dms/image/v2/D4E05AQFLSQ4MhhmGVQ/videocover-high/videocover-high/0/1727134018267?e=2147483647&v=beta&t=geWyy2mct2z2OrQF5W_mDNEh_JympV3vCUh3lKVu0yg',\n",
              " 'https://i.ebayimg.com/images/g/vywAAOSwgO1kCuDc/s-l1600.jpg',\n",
              " 'https://www.jmmobiliariomedicoequipos.com/wp-content/uploads/2022/12/PINZA-ALLIS-15CM-RECTA.webp',\n",
              " 'https://media.licdn.com/dms/image/v2/D4E05AQHgvBLLDFcExA/videocover-high/B4EZQ8x.q1G4Bs-/0/1736186527067?e=2147483647&v=beta&t=LNItUJjdL4_upz1_suO9xT9HvSOu9YxG_fkgUwl6bpw',\n",
              " 'https://lookaside.fbsbx.com/lookaside/crawler/media/?media_id=579766774602823',\n",
              " 'https://i.ebayimg.com/images/g/KmcAAeSwMZBouihP/s-l500.jpg',\n",
              " 'https://makepix.b-cdn.net/makepix_5d9542ad-a7f3-489f-908f-c47366f9145b/allis-clamp-091614c9_0.png',\n",
              " 'https://www.jmmobiliariomedicoequipos.com/wp-content/uploads/2024/05/PINZA-ALLIS-20-CM-RECTA.webp',\n",
              " 'https://5.imimg.com/data5/SELLER/Default/2025/3/499748348/DN/CO/TG/36777863/allis-forceps-1000x1000.jpg',\n",
              " 'https://s7d9.scene7.com/is/image/mmmspinco/Clamp-4-pouces',\n",
              " 'https://i5.walmartimages.com/seo/Line-Fuel-Filter-w-Hose-Clamps-Fits-International-Ford-John-Deere-Massey-Allis-Chalmers-Case-Cockshutt-Minneapolis-Moline-White-Oliver-Tractors_c538999f-3b86-4030-a221-3df155f09da6.28959d79fae415708889a5b287ee5642.jpeg',\n",
              " 'https://i5.walmartimages.com/seo/210467-Qty-100-Fuel-Line-Clamp-Fits-Allis-Chalmers-AC-22042-AC-23420_8d58607b-8529-4b54-b174-16ab41177551.032dcf6062d99bd699fe56e988f4d77f.jpeg',\n",
              " 'https://lookaside.fbsbx.com/lookaside/crawler/media/?media_id=1654922302129686',\n",
              " 'https://lookaside.fbsbx.com/lookaside/crawler/media/?media_id=1825323518290109',\n",
              " 'https://i5.walmartimages.com/seo/Air-Cleaner-Oil-Cup-Clamp-Style-Fits-International-Ford-John-Deere-Massey-Allis-Chalmers-Case-Minneapolis-Moline-White-Oliver-Tractor-352597R91-AH773_6d9f78e9-615f-454b-bcaf-e194a7acaa19.cb272a4460f26d4057e883f968d1ea8d.jpeg',\n",
              " 'https://www.kingmods.net/uploads/fs25/mods/allis-chalmers-1500-fs25-sPKYm.jpg',\n",
              " 'https://www.kingmods.net/uploads/fs25/mods/allis-chalmers-wd45-fs25-0vCJv.jpg',\n",
              " 'https://lookaside.fbsbx.com/lookaside/crawler/threads/mylifeas_allis/profile_pic.jpg',\n",
              " 'https://c8.alamy.com/comp/CRKE68/babcock-forceps-top-and-allis-clamp-bottom-both-are-used-to-atraumatically-CRKE68.jpg',\n",
              " 'https://wvs.academy/img-static/learn/companion-animals/spay-neuter/preparation-and-principles/surgical-equipment/instruments/figure-13.jpg',\n",
              " 'https://cstsetup.com/wp-content/uploads/2020/01/Allis-Forceps.png',\n",
              " 'https://5.imimg.com/data5/SELLER/Default/2024/7/433671666/RA/XA/LI/27436609/agarwals-5inch-aliis-tissue-forcep-500x500.jpg',\n",
              " 'https://i.machinio.com/thumb/1iix9e/4177467008/ddf6/muffler-clamp-2-2-bolt-heavy-duty-fits-new-holland-tl70-tl80-tl90-tl100-fits-ford-3600-4110-2000-4000-81818151-d6nn5252b-fits-allis-chalmers-79023405-fits-agco-79023405v-fits-john-deere-pm90929k.jpg',\n",
              " 'https://5.imimg.com/data5/SELLER/Default/2024/7/433671666/RA/XA/LI/27436609/agarwals-5inch-aliis-tissue-forcep-1000x1000.jpg',\n",
              " 'https://s3-eu-west-1.amazonaws.com/immagini.armiusate.it/pix/ballistol_shop_banner_armiusate.jpg',\n",
              " 'https://media.licdn.com/dms/image/v2/D4D22AQHEX0LhhOczNQ/feedshare-shrink_2048_1536/feedshare-shrink_2048_1536/0/1733244635766?e=2147483647&v=beta&t=f7rs60QMQZfjR8uUJCZVP2Vm_gdDURFdFwhBvywh-6I',\n",
              " 'https://lookaside.fbsbx.com/lookaside/crawler/media/?media_id=1230986808373714',\n",
              " 'https://catalog.wlimg.com/1/14819215/other-images/1029293.jpg',\n",
              " 'https://p16-ehi-sg.gauthstatic.com/tos-alisg-i-6e3a8cj6on-sg/4fa7a57f13634945acd7c973a7e44146~tplv-6e3a8cj6on-10.image',\n",
              " 'https://2.wlimg.com/product_images/bc-full/2025/8/14819215/watermark/adson-surgical-forceps-1754895016-8258567.jpeg',\n",
              " 'https://2.wlimg.com/product_images/bc-full/2025/8/14819215/watermark/luer-lock-syringe-1754903694-8258994.jpeg',\n",
              " 'https://o.quizlet.com/6yd0-Q6AIlswujIW2WPHqg.jpg',\n",
              " 'https://res.cloudinary.com/dyx4yhvoq/image/upload/w_800,h_800,c_limit,f_auto,q_auto/v1627484457/element-defaults/blank-light.jpg',\n",
              " 'https://2.wlimg.com/product_images/bc-full/2025/8/14819215/watermark/elastic-cotton-crepe-bandage-1754901750-8258866.jpeg',\n",
              " 'https://2.wlimg.com/product_images/bc-full/2025/8/14819215/watermark/disposable-cautery-pencil-1754898659-8258767.jpeg',\n",
              " 'https://2.wlimg.com/product_images/bc-full/2025/8/14819215/watermark/laparoscopic-trocar-cannula-1754897535-8258716.jpeg',\n",
              " 'https://2.wlimg.com/product_images/bc-full/2025/8/14819215/watermark/a-grade-white-maida-flour-1754654262-8256243.jpeg',\n",
              " 'https://2.wlimg.com/product_images/bc-full/2025/8/14819215/watermark/hypodermic-veterinary-needles-1754902239-8258895.jpeg',\n",
              " 'https://2.wlimg.com/product_images/bc-full/2025/8/14819215/watermark/10-20-fr-foley-catheters-1754904138-8259051.jpeg',\n",
              " 'https://i.ebayimg.com/images/g/F48AAOSw2jxjdeDd/s-l400.jpg',\n",
              " 'https://i.ebayimg.com/images/g/3YUAAOSwDYJkCuDc/s-l1600.jpg',\n",
              " 'https://i.ebayimg.com/images/g/3YUAAOSwDYJkCuDc/s-l400.jpg',\n",
              " 'https://i.ebayimg.com/images/g/Em4AAOSwfSFh0t9C/s-l1600.jpg',\n",
              " 'https://i.ebayimg.com/images/g/F48AAOSw2jxjdeDd/s-l1600.jpg',\n",
              " 'https://i.ebayimg.com/images/g/XeYAAOSwn2Nl4xy5/s-l1600.jpg',\n",
              " 'https://i.ebayimg.com/images/g/3YUAAOSwDYJkCuDc/s-l500.jpg',\n",
              " 'https://c8.alamy.com/comp/CRKEBT/allis-clamp-used-to-apply-atraumatic-traction-to-tissue-especially-CRKEBT.jpg',\n",
              " 'https://i.ebayimg.com/images/g/zNMAAOSwR4ZkCuDc/s-l1600.jpg',\n",
              " 'https://i.ebayimg.com/images/g/XeYAAOSwn2Nl4xy5/s-l400.jpg',\n",
              " 'https://surgivalley.com/wp-content/uploads/2021/04/LOCKWOOD-ALLIS-Intestinal-Clamp-3.jpg',\n",
              " 'https://i.ebayimg.com/images/g/F2IAAOSwXOhjYSHV/s-l1600.jpg',\n",
              " 'https://image.made-in-china.com/2f0j00ztGePjdUqQcY/Medical-Surgical-Operation-Soft-Tissue-Hand-Instruments-Allis-Forceps-and-Clamps.jpg',\n",
              " 'https://i.ebayimg.com/images/g/JkcAAOSwyXdlEcRa/s-l1600.jpg',\n",
              " 'https://i.ebayimg.com/images/g/wuYAAOSwsvNlXOWv/s-l1600.jpg',\n",
              " 'https://media.sciencephoto.com/image/c0529337/800wm/C0529337-Babcock_forceps_and_Allis_clamp.jpg',\n",
              " 'https://i.pinimg.com/originals/4f/1c/77/4f1c7755627ad8115376b73df7212ac7.jpg',\n",
              " 'https://i.ebayimg.com/images/g/qpgAAOSw~ANl-oqA/s-l1600.jpg',\n",
              " 'https://o.quizlet.com/8rt2krzFB3XA2HsWB8Yr3Q.png',\n",
              " 'https://primismedical.com/cdn/shop/files/copy-of-ebay-23.png?crop=center&height=1200&v=1757104634&width=1200',\n",
              " 'https://images.tokopedia.net/img/cache/500-square/VqbcmM/2021/10/14/b3eaa172-6d60-4dfb-9174-3f3903ac6a44.jpg',\n",
              " 'https://grey-medical.com/wp-content/uploads/2025/04/Allis-Bone-Clamp-6.jpg',\n",
              " 'https://img.everymarket.com/kjuzihovdzxrmvovakvps4ylqu1e?width=800&height=800&format=jpg',\n",
              " 'https://down-id.img.susercontent.com/file/sg-11134201-7rble-m5nnrscp8lpa88',\n",
              " 'https://i.otto.de/i/otto/3086d971-3ec1-5442-aec7-728442397c86?h=380&w=360&sm=clamp&upscale=true&fmt=auto',\n",
              " 'https://grey-medical.com/wp-content/uploads/2025/04/Allis-Bone-Clamp-6-one-coated-end.jpg',\n",
              " 'https://i.ebayimg.com/images/g/2dIAAOSw8bpjdeDd/s-l1600.jpg',\n",
              " 'https://media.licdn.com/dms/image/v2/C511BAQGLU7GJoigdLA/company-background_10000/company-background_10000/0/1584491833585?e=2147483647&v=beta&t=i69aWp2jCgrptwLuJuPJttpLyVBjk6wqBcKgkSdcfhs',\n",
              " 'https://new-medinstruments.com/image/cache/catalog/02021/Forceps+Clamps/Allis+Tissue+Forceps-500x500w.jpg',\n",
              " 'https://i.ebayimg.com/images/g/B0MAAOSwr9tjdeDd/s-l1600.jpg',\n",
              " 'https://i.ebayimg.com/images/g/G-cAAOSwfA9lm6Gt/s-l960.jpg',\n",
              " 'https://i.pinimg.com/originals/33/c4/6c/33c46ce9e3ffd1610e753be23d4c4566.jpg',\n",
              " 'https://i.ebayimg.com/images/g/v0YAAOSwKv5llEtz/s-l1600.jpg',\n",
              " 'https://media.licdn.com/dms/image/v2/D4E05AQHJEfGDW7S1Cw/videocover-high/B4EZSjX96IG0Bs-/0/1737907828511?e=2147483647&v=beta&t=0meWRNf4VZTxN_CEisWd4CwyGjiKX4MozfTHoZxrTgY',\n",
              " 'https://accesstovetcare.in/wp-content/uploads/2025/02/Allis-forceps-864x1536.jpg',\n",
              " 'https://grey-medical.com/wp-content/uploads/2025/04/Allis-Bone-Clamp-6-two-coated-ends.jpg',\n",
              " 'https://miro.medium.com/v2/resize:fit:1358/1*fNZr5hu8q3SHnKCVNSNtSg.jpeg',\n",
              " 'https://down-id.img.susercontent.com/file/id-11134201-7rask-m11i0634cx0a7c',\n",
              " 'https://cpimg.tistatic.com/10146521/b/5/ALLIS-TISSUE.png',\n",
              " 'https://miro.medium.com/v2/resize:fit:1000/1*yxmeZKo0HrfAi1Rrjxt3yg.jpeg',\n",
              " 'https://5.imimg.com/data5/SELLER/Default/2024/9/453589260/RF/WZ/AJ/3275920/58-500x500.jpg',\n",
              " 'https://media.licdn.com/dms/image/v2/D4E05AQFLSQ4MhhmGVQ/videocover-high/videocover-high/0/1727134018267?e=2147483647&v=beta&t=geWyy2mct2z2OrQF5W_mDNEh_JympV3vCUh3lKVu0yg',\n",
              " 'https://i.ebayimg.com/images/g/vywAAOSwgO1kCuDc/s-l1600.jpg',\n",
              " 'https://www.jmmobiliariomedicoequipos.com/wp-content/uploads/2022/12/PINZA-ALLIS-15CM-RECTA.webp',\n",
              " 'https://media.licdn.com/dms/image/v2/D4E05AQHgvBLLDFcExA/videocover-high/B4EZQ8x.q1G4Bs-/0/1736186527067?e=2147483647&v=beta&t=LNItUJjdL4_upz1_suO9xT9HvSOu9YxG_fkgUwl6bpw',\n",
              " 'https://lookaside.fbsbx.com/lookaside/crawler/media/?media_id=579766774602823',\n",
              " 'https://i.ebayimg.com/images/g/KmcAAeSwMZBouihP/s-l500.jpg',\n",
              " 'https://makepix.b-cdn.net/makepix_5d9542ad-a7f3-489f-908f-c47366f9145b/allis-clamp-091614c9_0.png',\n",
              " 'https://www.jmmobiliariomedicoequipos.com/wp-content/uploads/2024/05/PINZA-ALLIS-20-CM-RECTA.webp',\n",
              " 'https://5.imimg.com/data5/SELLER/Default/2025/3/499748348/DN/CO/TG/36777863/allis-forceps-1000x1000.jpg',\n",
              " 'https://s7d9.scene7.com/is/image/mmmspinco/Clamp-4-pouces',\n",
              " 'https://i5.walmartimages.com/seo/Line-Fuel-Filter-w-Hose-Clamps-Fits-International-Ford-John-Deere-Massey-Allis-Chalmers-Case-Cockshutt-Minneapolis-Moline-White-Oliver-Tractors_c538999f-3b86-4030-a221-3df155f09da6.28959d79fae415708889a5b287ee5642.jpeg',\n",
              " 'https://i5.walmartimages.com/seo/210467-Qty-100-Fuel-Line-Clamp-Fits-Allis-Chalmers-AC-22042-AC-23420_8d58607b-8529-4b54-b174-16ab41177551.032dcf6062d99bd699fe56e988f4d77f.jpeg',\n",
              " 'https://lookaside.fbsbx.com/lookaside/crawler/media/?media_id=1654922302129686',\n",
              " 'https://lookaside.fbsbx.com/lookaside/crawler/media/?media_id=1825323518290109',\n",
              " 'https://i5.walmartimages.com/seo/Air-Cleaner-Oil-Cup-Clamp-Style-Fits-International-Ford-John-Deere-Massey-Allis-Chalmers-Case-Minneapolis-Moline-White-Oliver-Tractor-352597R91-AH773_6d9f78e9-615f-454b-bcaf-e194a7acaa19.cb272a4460f26d4057e883f968d1ea8d.jpeg',\n",
              " 'https://www.kingmods.net/uploads/fs25/mods/allis-chalmers-1500-fs25-sPKYm.jpg',\n",
              " 'https://www.kingmods.net/uploads/fs25/mods/allis-chalmers-wd45-fs25-0vCJv.jpg',\n",
              " 'https://lookaside.fbsbx.com/lookaside/crawler/threads/mylifeas_allis/profile_pic.jpg',\n",
              " 'https://c8.alamy.com/comp/CRKE68/babcock-forceps-top-and-allis-clamp-bottom-both-are-used-to-atraumatically-CRKE68.jpg',\n",
              " 'https://wvs.academy/img-static/learn/companion-animals/spay-neuter/preparation-and-principles/surgical-equipment/instruments/figure-13.jpg',\n",
              " 'https://cstsetup.com/wp-content/uploads/2020/01/Allis-Forceps.png',\n",
              " 'https://5.imimg.com/data5/SELLER/Default/2024/7/433671666/RA/XA/LI/27436609/agarwals-5inch-aliis-tissue-forcep-500x500.jpg',\n",
              " 'https://i.machinio.com/thumb/1iix9e/4177467008/ddf6/muffler-clamp-2-2-bolt-heavy-duty-fits-new-holland-tl70-tl80-tl90-tl100-fits-ford-3600-4110-2000-4000-81818151-d6nn5252b-fits-allis-chalmers-79023405-fits-agco-79023405v-fits-john-deere-pm90929k.jpg',\n",
              " 'https://5.imimg.com/data5/SELLER/Default/2024/7/433671666/RA/XA/LI/27436609/agarwals-5inch-aliis-tissue-forcep-1000x1000.jpg',\n",
              " 'https://s3-eu-west-1.amazonaws.com/immagini.armiusate.it/pix/ballistol_shop_banner_armiusate.jpg',\n",
              " 'https://media.licdn.com/dms/image/v2/D4D22AQHEX0LhhOczNQ/feedshare-shrink_2048_1536/feedshare-shrink_2048_1536/0/1733244635766?e=2147483647&v=beta&t=f7rs60QMQZfjR8uUJCZVP2Vm_gdDURFdFwhBvywh-6I',\n",
              " 'https://lookaside.fbsbx.com/lookaside/crawler/media/?media_id=1230986808373714',\n",
              " 'https://catalog.wlimg.com/1/14819215/other-images/1029293.jpg',\n",
              " 'https://p16-ehi-sg.gauthstatic.com/tos-alisg-i-6e3a8cj6on-sg/4fa7a57f13634945acd7c973a7e44146~tplv-6e3a8cj6on-10.image',\n",
              " 'https://2.wlimg.com/product_images/bc-full/2025/8/14819215/watermark/adson-surgical-forceps-1754895016-8258567.jpeg',\n",
              " 'https://2.wlimg.com/product_images/bc-full/2025/8/14819215/watermark/luer-lock-syringe-1754903694-8258994.jpeg',\n",
              " 'https://o.quizlet.com/6yd0-Q6AIlswujIW2WPHqg.jpg',\n",
              " 'https://res.cloudinary.com/dyx4yhvoq/image/upload/w_800,h_800,c_limit,f_auto,q_auto/v1627484457/element-defaults/blank-light.jpg',\n",
              " 'https://2.wlimg.com/product_images/bc-full/2025/8/14819215/watermark/elastic-cotton-crepe-bandage-1754901750-8258866.jpeg',\n",
              " 'https://2.wlimg.com/product_images/bc-full/2025/8/14819215/watermark/disposable-cautery-pencil-1754898659-8258767.jpeg',\n",
              " 'https://2.wlimg.com/product_images/bc-full/2025/8/14819215/watermark/laparoscopic-trocar-cannula-1754897535-8258716.jpeg',\n",
              " 'https://2.wlimg.com/product_images/bc-full/2025/8/14819215/watermark/a-grade-white-maida-flour-1754654262-8256243.jpeg',\n",
              " 'https://2.wlimg.com/product_images/bc-full/2025/8/14819215/watermark/hypodermic-veterinary-needles-1754902239-8258895.jpeg',\n",
              " 'https://2.wlimg.com/product_images/bc-full/2025/8/14819215/watermark/10-20-fr-foley-catheters-1754904138-8259051.jpeg']"
            ]
          },
          "metadata": {},
          "execution_count": 9
        }
      ]
    },
    {
      "cell_type": "code",
      "source": [
        "for label in tqdm(surgical_equipment_labels):\n",
        "  dest = (path/label)\n",
        "  if not dest.exists():\n",
        "    dest.mkdir(exist_ok=True)\n",
        "\n",
        "  try:\n",
        "    image_urls = DDG_search_images(label)\n",
        "    download_images(dest, urls=image_urls)\n",
        "  except:\n",
        "    continue"
      ],
      "metadata": {
        "colab": {
          "base_uri": "https://localhost:8080/",
          "height": 49,
          "referenced_widgets": [
            "6797c51497bb4ff1863fc1b51c228511",
            "1612a7b317ca46c090755eb7a4f37593",
            "eac1ea4a6c3b479595d17a3c9439b718",
            "cfe917d99e4e498f82490e9b93cb33e0",
            "7e76d6db1eab46829f246bf56a422fc1",
            "9fbbb11183a6434f89867204887bc33d",
            "185a9cec78c345c1a5e498b6366c0aa0",
            "45c4fb1d43b24fc58170fd632ce5ed24",
            "8a2f5014a32246568be5494026a04a13",
            "93400c40849a42979fb84fa905f9619a",
            "fc4044a4d9b74e9fbe8427d457ebfcb5"
          ]
        },
        "id": "fH_YTwnCeK59",
        "outputId": "f0a6a169-8e63-423a-f147-2f95e2f87d05"
      },
      "execution_count": null,
      "outputs": [
        {
          "output_type": "display_data",
          "data": {
            "text/plain": [
              "  0%|          | 0/20 [00:00<?, ?it/s]"
            ],
            "application/vnd.jupyter.widget-view+json": {
              "version_major": 2,
              "version_minor": 0,
              "model_id": "6797c51497bb4ff1863fc1b51c228511"
            }
          },
          "metadata": {}
        }
      ]
    },
    {
      "cell_type": "code",
      "source": [
        "image_counts = get_image_files(path)\n",
        "len(image_counts)"
      ],
      "metadata": {
        "colab": {
          "base_uri": "https://localhost:8080/"
        },
        "id": "Iu0_YmCX4qrO",
        "outputId": "9ab900cc-b97a-46d1-e506-61a62f921538"
      },
      "execution_count": null,
      "outputs": [
        {
          "output_type": "execute_result",
          "data": {
            "text/plain": [
              "5961"
            ]
          },
          "metadata": {},
          "execution_count": 11
        }
      ]
    },
    {
      "cell_type": "code",
      "source": [
        "failed = verify_images(image_counts)\n",
        "len(failed)"
      ],
      "metadata": {
        "colab": {
          "base_uri": "https://localhost:8080/"
        },
        "id": "AN2FhgwX6-eK",
        "outputId": "16ef1285-9f5b-4190-f242-fbb647be8b0b"
      },
      "execution_count": null,
      "outputs": [
        {
          "output_type": "execute_result",
          "data": {
            "text/plain": [
              "31"
            ]
          },
          "metadata": {},
          "execution_count": 12
        }
      ]
    },
    {
      "cell_type": "code",
      "source": [
        "failed.map(Path.unlink)"
      ],
      "metadata": {
        "colab": {
          "base_uri": "https://localhost:8080/"
        },
        "id": "mrnjnh1JGch1",
        "outputId": "901ecc53-fc64-4fb0-bb03-6c9b963df18c"
      },
      "execution_count": null,
      "outputs": [
        {
          "output_type": "execute_result",
          "data": {
            "text/plain": [
              "(#31) [None,None,None,None,None,None,None,None,None,None,None,None,None,None,None,None,None,None,None,None...]"
            ]
          },
          "metadata": {},
          "execution_count": 13
        }
      ]
    }
  ],
  "metadata": {
    "colab": {
      "provenance": []
    },
    "kernelspec": {
      "display_name": "Python 3",
      "name": "python3"
    },
    "language_info": {
      "name": "python"
    },
    "widgets": {
      "application/vnd.jupyter.widget-state+json": {
        "6797c51497bb4ff1863fc1b51c228511": {
          "model_module": "@jupyter-widgets/controls",
          "model_name": "HBoxModel",
          "model_module_version": "1.5.0",
          "state": {
            "_dom_classes": [],
            "_model_module": "@jupyter-widgets/controls",
            "_model_module_version": "1.5.0",
            "_model_name": "HBoxModel",
            "_view_count": null,
            "_view_module": "@jupyter-widgets/controls",
            "_view_module_version": "1.5.0",
            "_view_name": "HBoxView",
            "box_style": "",
            "children": [
              "IPY_MODEL_1612a7b317ca46c090755eb7a4f37593",
              "IPY_MODEL_eac1ea4a6c3b479595d17a3c9439b718",
              "IPY_MODEL_cfe917d99e4e498f82490e9b93cb33e0"
            ],
            "layout": "IPY_MODEL_7e76d6db1eab46829f246bf56a422fc1"
          }
        },
        "1612a7b317ca46c090755eb7a4f37593": {
          "model_module": "@jupyter-widgets/controls",
          "model_name": "HTMLModel",
          "model_module_version": "1.5.0",
          "state": {
            "_dom_classes": [],
            "_model_module": "@jupyter-widgets/controls",
            "_model_module_version": "1.5.0",
            "_model_name": "HTMLModel",
            "_view_count": null,
            "_view_module": "@jupyter-widgets/controls",
            "_view_module_version": "1.5.0",
            "_view_name": "HTMLView",
            "description": "",
            "description_tooltip": null,
            "layout": "IPY_MODEL_9fbbb11183a6434f89867204887bc33d",
            "placeholder": "​",
            "style": "IPY_MODEL_185a9cec78c345c1a5e498b6366c0aa0",
            "value": "100%"
          }
        },
        "eac1ea4a6c3b479595d17a3c9439b718": {
          "model_module": "@jupyter-widgets/controls",
          "model_name": "FloatProgressModel",
          "model_module_version": "1.5.0",
          "state": {
            "_dom_classes": [],
            "_model_module": "@jupyter-widgets/controls",
            "_model_module_version": "1.5.0",
            "_model_name": "FloatProgressModel",
            "_view_count": null,
            "_view_module": "@jupyter-widgets/controls",
            "_view_module_version": "1.5.0",
            "_view_name": "ProgressView",
            "bar_style": "success",
            "description": "",
            "description_tooltip": null,
            "layout": "IPY_MODEL_45c4fb1d43b24fc58170fd632ce5ed24",
            "max": 20,
            "min": 0,
            "orientation": "horizontal",
            "style": "IPY_MODEL_8a2f5014a32246568be5494026a04a13",
            "value": 20
          }
        },
        "cfe917d99e4e498f82490e9b93cb33e0": {
          "model_module": "@jupyter-widgets/controls",
          "model_name": "HTMLModel",
          "model_module_version": "1.5.0",
          "state": {
            "_dom_classes": [],
            "_model_module": "@jupyter-widgets/controls",
            "_model_module_version": "1.5.0",
            "_model_name": "HTMLModel",
            "_view_count": null,
            "_view_module": "@jupyter-widgets/controls",
            "_view_module_version": "1.5.0",
            "_view_name": "HTMLView",
            "description": "",
            "description_tooltip": null,
            "layout": "IPY_MODEL_93400c40849a42979fb84fa905f9619a",
            "placeholder": "​",
            "style": "IPY_MODEL_fc4044a4d9b74e9fbe8427d457ebfcb5",
            "value": " 20/20 [06:34&lt;00:00, 16.42s/it]"
          }
        },
        "7e76d6db1eab46829f246bf56a422fc1": {
          "model_module": "@jupyter-widgets/base",
          "model_name": "LayoutModel",
          "model_module_version": "1.2.0",
          "state": {
            "_model_module": "@jupyter-widgets/base",
            "_model_module_version": "1.2.0",
            "_model_name": "LayoutModel",
            "_view_count": null,
            "_view_module": "@jupyter-widgets/base",
            "_view_module_version": "1.2.0",
            "_view_name": "LayoutView",
            "align_content": null,
            "align_items": null,
            "align_self": null,
            "border": null,
            "bottom": null,
            "display": null,
            "flex": null,
            "flex_flow": null,
            "grid_area": null,
            "grid_auto_columns": null,
            "grid_auto_flow": null,
            "grid_auto_rows": null,
            "grid_column": null,
            "grid_gap": null,
            "grid_row": null,
            "grid_template_areas": null,
            "grid_template_columns": null,
            "grid_template_rows": null,
            "height": null,
            "justify_content": null,
            "justify_items": null,
            "left": null,
            "margin": null,
            "max_height": null,
            "max_width": null,
            "min_height": null,
            "min_width": null,
            "object_fit": null,
            "object_position": null,
            "order": null,
            "overflow": null,
            "overflow_x": null,
            "overflow_y": null,
            "padding": null,
            "right": null,
            "top": null,
            "visibility": null,
            "width": null
          }
        },
        "9fbbb11183a6434f89867204887bc33d": {
          "model_module": "@jupyter-widgets/base",
          "model_name": "LayoutModel",
          "model_module_version": "1.2.0",
          "state": {
            "_model_module": "@jupyter-widgets/base",
            "_model_module_version": "1.2.0",
            "_model_name": "LayoutModel",
            "_view_count": null,
            "_view_module": "@jupyter-widgets/base",
            "_view_module_version": "1.2.0",
            "_view_name": "LayoutView",
            "align_content": null,
            "align_items": null,
            "align_self": null,
            "border": null,
            "bottom": null,
            "display": null,
            "flex": null,
            "flex_flow": null,
            "grid_area": null,
            "grid_auto_columns": null,
            "grid_auto_flow": null,
            "grid_auto_rows": null,
            "grid_column": null,
            "grid_gap": null,
            "grid_row": null,
            "grid_template_areas": null,
            "grid_template_columns": null,
            "grid_template_rows": null,
            "height": null,
            "justify_content": null,
            "justify_items": null,
            "left": null,
            "margin": null,
            "max_height": null,
            "max_width": null,
            "min_height": null,
            "min_width": null,
            "object_fit": null,
            "object_position": null,
            "order": null,
            "overflow": null,
            "overflow_x": null,
            "overflow_y": null,
            "padding": null,
            "right": null,
            "top": null,
            "visibility": null,
            "width": null
          }
        },
        "185a9cec78c345c1a5e498b6366c0aa0": {
          "model_module": "@jupyter-widgets/controls",
          "model_name": "DescriptionStyleModel",
          "model_module_version": "1.5.0",
          "state": {
            "_model_module": "@jupyter-widgets/controls",
            "_model_module_version": "1.5.0",
            "_model_name": "DescriptionStyleModel",
            "_view_count": null,
            "_view_module": "@jupyter-widgets/base",
            "_view_module_version": "1.2.0",
            "_view_name": "StyleView",
            "description_width": ""
          }
        },
        "45c4fb1d43b24fc58170fd632ce5ed24": {
          "model_module": "@jupyter-widgets/base",
          "model_name": "LayoutModel",
          "model_module_version": "1.2.0",
          "state": {
            "_model_module": "@jupyter-widgets/base",
            "_model_module_version": "1.2.0",
            "_model_name": "LayoutModel",
            "_view_count": null,
            "_view_module": "@jupyter-widgets/base",
            "_view_module_version": "1.2.0",
            "_view_name": "LayoutView",
            "align_content": null,
            "align_items": null,
            "align_self": null,
            "border": null,
            "bottom": null,
            "display": null,
            "flex": null,
            "flex_flow": null,
            "grid_area": null,
            "grid_auto_columns": null,
            "grid_auto_flow": null,
            "grid_auto_rows": null,
            "grid_column": null,
            "grid_gap": null,
            "grid_row": null,
            "grid_template_areas": null,
            "grid_template_columns": null,
            "grid_template_rows": null,
            "height": null,
            "justify_content": null,
            "justify_items": null,
            "left": null,
            "margin": null,
            "max_height": null,
            "max_width": null,
            "min_height": null,
            "min_width": null,
            "object_fit": null,
            "object_position": null,
            "order": null,
            "overflow": null,
            "overflow_x": null,
            "overflow_y": null,
            "padding": null,
            "right": null,
            "top": null,
            "visibility": null,
            "width": null
          }
        },
        "8a2f5014a32246568be5494026a04a13": {
          "model_module": "@jupyter-widgets/controls",
          "model_name": "ProgressStyleModel",
          "model_module_version": "1.5.0",
          "state": {
            "_model_module": "@jupyter-widgets/controls",
            "_model_module_version": "1.5.0",
            "_model_name": "ProgressStyleModel",
            "_view_count": null,
            "_view_module": "@jupyter-widgets/base",
            "_view_module_version": "1.2.0",
            "_view_name": "StyleView",
            "bar_color": null,
            "description_width": ""
          }
        },
        "93400c40849a42979fb84fa905f9619a": {
          "model_module": "@jupyter-widgets/base",
          "model_name": "LayoutModel",
          "model_module_version": "1.2.0",
          "state": {
            "_model_module": "@jupyter-widgets/base",
            "_model_module_version": "1.2.0",
            "_model_name": "LayoutModel",
            "_view_count": null,
            "_view_module": "@jupyter-widgets/base",
            "_view_module_version": "1.2.0",
            "_view_name": "LayoutView",
            "align_content": null,
            "align_items": null,
            "align_self": null,
            "border": null,
            "bottom": null,
            "display": null,
            "flex": null,
            "flex_flow": null,
            "grid_area": null,
            "grid_auto_columns": null,
            "grid_auto_flow": null,
            "grid_auto_rows": null,
            "grid_column": null,
            "grid_gap": null,
            "grid_row": null,
            "grid_template_areas": null,
            "grid_template_columns": null,
            "grid_template_rows": null,
            "height": null,
            "justify_content": null,
            "justify_items": null,
            "left": null,
            "margin": null,
            "max_height": null,
            "max_width": null,
            "min_height": null,
            "min_width": null,
            "object_fit": null,
            "object_position": null,
            "order": null,
            "overflow": null,
            "overflow_x": null,
            "overflow_y": null,
            "padding": null,
            "right": null,
            "top": null,
            "visibility": null,
            "width": null
          }
        },
        "fc4044a4d9b74e9fbe8427d457ebfcb5": {
          "model_module": "@jupyter-widgets/controls",
          "model_name": "DescriptionStyleModel",
          "model_module_version": "1.5.0",
          "state": {
            "_model_module": "@jupyter-widgets/controls",
            "_model_module_version": "1.5.0",
            "_model_name": "DescriptionStyleModel",
            "_view_count": null,
            "_view_module": "@jupyter-widgets/base",
            "_view_module_version": "1.2.0",
            "_view_name": "StyleView",
            "description_width": ""
          }
        }
      }
    }
  },
  "nbformat": 4,
  "nbformat_minor": 0
}